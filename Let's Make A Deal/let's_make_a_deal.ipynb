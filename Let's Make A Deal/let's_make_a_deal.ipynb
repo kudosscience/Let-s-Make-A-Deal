{
 "cells": [
  {
   "cell_type": "markdown",
   "metadata": {},
   "source": [
    "# Let's Make a Deal"
   ]
  },
  {
   "cell_type": "markdown",
   "metadata": {},
   "source": [
    "The Monty Hall problem is a probability puzzle named after Monty Hall, the original host of the game show \"Let's Make a Deal\". The problem goes like this:\n",
    "\n",
    "1. You're on a game show, and there are three doors. Behind one door is a car, behind the others, goats. You choose a door, say No. 1.\n",
    "2. Now the host, who knows what's behind the doors, opens another door, say No. 3, which has a goat. He then says to you, \"Do you want to pick door No. 2?\"\n",
    "\n",
    "Is it to your advantage to switch your choice of doors?\n",
    "\n",
    "Counter-intuitively, the answer is yes. If you switch doors, you have a 2/3 chance of winning the car, while if you stick to your initial choice, you have a 1/3 chance. \n",
    "\n",
    "Intuitively most people believe that each of the 2 remaining doors has an equal probability.\n",
    "\n",
    "However, the following simulation will show that switching is the better strategy."
   ]
  },
  {
   "cell_type": "code",
   "execution_count": 3,
   "metadata": {},
   "outputs": [
    {
     "name": "stdout",
     "output_type": "stream",
     "text": [
      "0.681 0.319\n"
     ]
    },
    {
     "data": {
      "text/plain": [
       "(0.681, 0.319)"
      ]
     },
     "execution_count": 3,
     "metadata": {},
     "output_type": "execute_result"
    }
   ],
   "source": [
    "import random\n",
    "\n",
    "def simulate_monty_hall(num_samples):\n",
    "    win_if_switch = 0\n",
    "    win_if_stay = 0\n",
    "\n",
    "    for _ in range(num_samples):\n",
    "        doors = [0, 0, 1]  # 0 represents a goat, 1 represents a car\n",
    "        random.shuffle(doors)  # shuffle the doors\n",
    "\n",
    "        # player's initial choice\n",
    "        initial_choice = random.choice([0, 1, 2])\n",
    "\n",
    "        # Monty opens a door\n",
    "        monty_choice = [i for i in range(3) if doors[i] == 0 and i != initial_choice][0]\n",
    "\n",
    "        # if player switches\n",
    "        switch_choice = [i for i in range(3) if i != initial_choice and i != monty_choice][0]\n",
    "        if doors[switch_choice] == 1:\n",
    "            win_if_switch += 1\n",
    "\n",
    "        # if player stays\n",
    "        if doors[initial_choice] == 1:\n",
    "            win_if_stay += 1\n",
    "\n",
    "    prob_win_if_switch = win_if_switch / num_samples\n",
    "    prob_win_if_stay = win_if_stay / num_samples\n",
    "\n",
    "    print(prob_win_if_switch, prob_win_if_stay)\n",
    "    return prob_win_if_switch, prob_win_if_stay\n",
    "\n",
    "simulate_monty_hall(1000)"
   ]
  }
 ],
 "metadata": {
  "kernelspec": {
   "display_name": "Python 3 (ipykernel)",
   "language": "python",
   "name": "python3"
  }
 },
 "nbformat": 4,
 "nbformat_minor": 2
}
